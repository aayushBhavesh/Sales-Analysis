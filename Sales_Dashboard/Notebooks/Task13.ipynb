{
 "cells": [
  {
   "cell_type": "markdown",
   "id": "64211fd4",
   "metadata": {},
   "source": [
    "Unique Customers and Repeat Purchases Analysis Scenario: The Customer Service Team wants to analyze how many customers made multiple purchases in 2022. Requirements: • Create a calculated field to count the number of distinct customers who made at least two purchases. Use the formula COUNT_DISTINCT(customer_id). • Create a scorecard showing the number of customers who made only one purchase and those who made more than one purchase. • Display the ratio of repeat customers to new customers. Key Features to Use: • customer_id • order_date"
   ]
  },
  {
   "cell_type": "code",
   "execution_count": 1,
   "id": "1a699464",
   "metadata": {},
   "outputs": [
    {
     "name": "stdout",
     "output_type": "stream",
     "text": [
      "📊 Unique Customers and Repeat Purchases Analysis (2022):\n",
      "🧑‍🤝‍🧑 Total Unique Customers: 2359\n",
      "🆕 One-Time Customers: 2006\n",
      "🔁 Repeat Customers: 353\n",
      "📈 Repeat Customer Ratio: 14.96%\n"
     ]
    }
   ],
   "source": [
    "# 📌 Task: Unique Customers and Repeat Purchases Analysis (2022)\n",
    "\n",
    "import pandas as pd\n",
    "\n",
    "# Step 1: Load dataset\n",
    "file_path = r\"C:\\Users\\bhave\\OneDrive\\Desktop\\dashboard\\dataset2\\finaldataset.csv\"\n",
    "df = pd.read_csv(file_path)\n",
    "\n",
    "# Step 2: Ensure order_date is datetime\n",
    "df['order_date'] = pd.to_datetime(df['order_date'], errors='coerce')\n",
    "\n",
    "# Step 3: Filter data for 2022\n",
    "df_2022 = df[df['order_date'].dt.year == 2022]\n",
    "\n",
    "# Step 4: Count purchases per customer\n",
    "customer_orders = df_2022.groupby('customer_id')['id'].nunique().reset_index()\n",
    "customer_orders.columns = ['customer_id', 'purchase_count']\n",
    "\n",
    "# Step 5: Categorize customers\n",
    "one_time_customers = (customer_orders['purchase_count'] == 1).sum()\n",
    "repeat_customers = (customer_orders['purchase_count'] > 1).sum()\n",
    "total_customers = customer_orders['customer_id'].nunique()\n",
    "\n",
    "# Step 6: Ratio of repeat to new\n",
    "repeat_ratio = repeat_customers / total_customers if total_customers > 0 else 0\n",
    "\n",
    "# Step 7: Display results\n",
    "print(\"📊 Unique Customers and Repeat Purchases Analysis (2022):\")\n",
    "print(f\"🧑‍🤝‍🧑 Total Unique Customers: {total_customers}\")\n",
    "print(f\"🆕 One-Time Customers: {one_time_customers}\")\n",
    "print(f\"🔁 Repeat Customers: {repeat_customers}\")\n",
    "print(f\"📈 Repeat Customer Ratio: {repeat_ratio:.2%}\")\n"
   ]
  }
 ],
 "metadata": {
  "kernelspec": {
   "display_name": "Python 3",
   "language": "python",
   "name": "python3"
  },
  "language_info": {
   "codemirror_mode": {
    "name": "ipython",
    "version": 3
   },
   "file_extension": ".py",
   "mimetype": "text/x-python",
   "name": "python",
   "nbconvert_exporter": "python",
   "pygments_lexer": "ipython3",
   "version": "3.12.2"
  }
 },
 "nbformat": 4,
 "nbformat_minor": 5
}
