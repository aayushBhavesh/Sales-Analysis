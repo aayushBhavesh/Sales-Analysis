{
 "cells": [
  {
   "cell_type": "markdown",
   "id": "dd1c50c2",
   "metadata": {},
   "source": [
    "Identifying Customers Who Completed Checkout but Didn't Pay in 2022 Scenario: The Digital Marketing Team wants to identify customers who completed the checkout process but did not make a payment in 2022. This will help them reach out for promotional purposes. Requirements: • Filter the data to find records where is_gross is 1 (indicating completed che• Retrieve the customer_id and registered_date for these records. • Ensure there are no duplicate customer_id entries. • Share the compiled data with the Marketing Team. Key Features to Use: • is_gross (for checkout status) • is_valid, is_net (to filter invalid or net transactions) • order_date (for filtering by year) • customer_id • registered_dateckout but no payment), is_valid is 0, and is_net is 0, for the year 2022."
   ]
  },
  {
   "cell_type": "code",
   "execution_count": 1,
   "id": "0d5e6680",
   "metadata": {},
   "outputs": [
    {
     "name": "stdout",
     "output_type": "stream",
     "text": [
      "Customers who completed checkout but didn't pay in 2022:\n",
      "    customer_id registered_date\n",
      "0      C483469L      2021-07-26\n",
      "1      C143684L      2021-07-05\n",
      "2      C663962L      2021-07-13\n",
      "3      C333743L      2021-07-07\n",
      "4      C972737L      2021-07-21\n",
      "..          ...             ...\n",
      "815    C179670L      2022-08-17\n",
      "816    C110122L      2022-08-14\n",
      "817    C943127L      2022-08-12\n",
      "818    C925840L      2022-08-28\n",
      "819    C930543L      2022-08-21\n",
      "\n",
      "[820 rows x 2 columns]\n",
      "✅ Data saved to 'customers_not_paid_2022.csv'\n"
     ]
    },
    {
     "name": "stderr",
     "output_type": "stream",
     "text": [
      "C:\\Users\\bhave\\AppData\\Local\\Temp\\ipykernel_27832\\2686974150.py:29: UserWarning: pandas only supports SQLAlchemy connectable (engine/connection) or database string URI or sqlite3 DBAPI2 connection. Other DBAPI2 objects are not tested. Please consider using SQLAlchemy.\n",
      "  checkout_df = pd.read_sql(query, connection)\n"
     ]
    }
   ],
   "source": [
    "import pymysql\n",
    "import pandas as pd\n",
    "\n",
    "# Database connection\n",
    "db_config = {\n",
    "    \"host\": \"localhost\",\n",
    "    \"user\": \"root\",\n",
    "    \"password\": \"HA032908@\",   # your DB password\n",
    "    \"database\": \"sales\",\n",
    "    \"port\": 3306\n",
    "}\n",
    "\n",
    "# SQL Query\n",
    "query = \"\"\"\n",
    "SELECT DISTINCT \n",
    "    o.customer_id,\n",
    "    c.registered_date\n",
    "FROM order_detail o\n",
    "JOIN customer_detail c \n",
    "    ON o.customer_id = c.id\n",
    "WHERE o.is_gross = 1\n",
    "  AND o.is_valid = 0\n",
    "  AND o.is_net = 0\n",
    "  AND YEAR(o.order_date) = 2022;\n",
    "\"\"\"\n",
    "\n",
    "# Step 1: Connect and fetch data\n",
    "connection = pymysql.connect(**db_config)\n",
    "checkout_df = pd.read_sql(query, connection)\n",
    "connection.close()\n",
    "\n",
    "# Step 2: Show results\n",
    "print(\"Customers who completed checkout but didn't pay in 2022:\")\n",
    "print(checkout_df)\n",
    "\n",
    "# Step 3: Save to CSV for Marketing Team\n",
    "checkout_df.to_csv(\"customers_not_paid_2022.csv\", index=False)\n",
    "print(\"✅ Data saved to 'customers_not_paid_2022.csv'\")\n"
   ]
  }
 ],
 "metadata": {
  "kernelspec": {
   "display_name": "Python 3",
   "language": "python",
   "name": "python3"
  },
  "language_info": {
   "codemirror_mode": {
    "name": "ipython",
    "version": 3
   },
   "file_extension": ".py",
   "mimetype": "text/x-python",
   "name": "python",
   "nbconvert_exporter": "python",
   "pygments_lexer": "ipython3",
   "version": "3.12.2"
  }
 },
 "nbformat": 4,
 "nbformat_minor": 5
}
